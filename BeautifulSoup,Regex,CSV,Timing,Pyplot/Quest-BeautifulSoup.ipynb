{
 "cells": [
  {
   "cell_type": "markdown",
   "metadata": {},
   "source": [
    "### CLASS: CSE7345\n",
    "### NAME: Hanspal, Randeep\n",
    "### SMUID: 47812509\n",
    "### QUEST: Part A. Beautiful Soup"
   ]
  },
  {
   "cell_type": "code",
   "execution_count": 22,
   "metadata": {
    "collapsed": true
   },
   "outputs": [],
   "source": [
    "import bs4\n",
    "from bs4 import BeautifulSoup\n",
    "import requests"
   ]
  },
  {
   "cell_type": "code",
   "execution_count": 23,
   "metadata": {},
   "outputs": [
    {
     "name": "stderr",
     "output_type": "stream",
     "text": [
      "/usr/local/es6/lib/python2.7/site-packages/requests/packages/urllib3/util/ssl_.py:122: InsecurePlatformWarning: A true SSLContext object is not available. This prevents urllib3 from configuring SSL appropriately and may cause certain SSL connections to fail. You can upgrade to a newer version of Python to solve this. For more information, see https://urllib3.readthedocs.io/en/latest/security.html#insecureplatformwarning.\n",
      "  InsecurePlatformWarning\n"
     ]
    },
    {
     "name": "stdout",
     "output_type": "stream",
     "text": [
      "5\n"
     ]
    }
   ],
   "source": [
    "#get back a response OBJECT\n",
    "response = requests.get(\"https://www.nasdaq.com/quotes/stock-quotes.aspx\")\n",
    "\n",
    "#the text is available as resonse.content\n",
    "soup = BeautifulSoup(response.content, \"html.parser\")\n",
    "\n",
    "#select the table we are looking for\n",
    "tableNode = soup.find('div', {'class':'genTable marginL15px'})\n",
    "\n",
    "childList = tableNode.find_all('tbody')\n",
    "print (len(childList) )  "
   ]
  },
  {
   "cell_type": "code",
   "execution_count": 24,
   "metadata": {},
   "outputs": [
    {
     "name": "stdout",
     "output_type": "stream",
     "text": [
      "[0.47, -0.39, -0.81, -0.05, -1.1]\n"
     ]
    }
   ],
   "source": [
    "#Create list to store percent change for each company\n",
    "changeList=[]\n",
    "colorList=[]\n",
    "noList=[]\n",
    "for child in childList:\n",
    "    tdlist = child.find_all('span')\n",
    "    no = (tdlist[0].getText()[6:11].strip())\n",
    "    noList.append(no)\n",
    "    color=tdlist[0]['class']\n",
    "    colorList.append(color)\n",
    "for i in range(len(colorList)):\n",
    "    if 'green' in colorList[i]:\n",
    "        changeList.append(noList[i])   \n",
    "    else:\n",
    "        changeList.append('-'+noList[i])\n",
    "\n",
    "changeList = [ float(i) for i in changeList]\n",
    "print(changeList)"
   ]
  },
  {
   "cell_type": "code",
   "execution_count": 25,
   "metadata": {},
   "outputs": [
    {
     "name": "stdout",
     "output_type": "stream",
     "text": [
      "[u'Micron Technology, Inc.', u'Invesco QQQ Trust, Series 1\\nInvesco QQQ Trust, Series 1', u'Apple Inc.', u'Marvell Technology Group Ltd.', u'JD.com, Inc.']\n",
      "[u'45632121', u'40453097', u'35791794', u'35454503', u'24782813']\n"
     ]
    }
   ],
   "source": [
    "import re\n",
    "symbolList = []\n",
    "volumeList = []\n",
    "for child in childList:\n",
    "    tdlist = child.find_all('td')  \n",
    "    if (len(tdlist) > 0): \n",
    "        symbol = tdlist[0].getText().strip('\\n')\n",
    "        sale = tdlist[1].getText().strip('\\n')\n",
    "        volume = tdlist[3].getText().strip('\\n')\n",
    "        volume = re.sub('[,]','',volume)\n",
    "        volumeList.append(volume.strip())\n",
    "        symbolList.append(symbol)\n",
    "print(symbolList)\n",
    "print(volumeList)"
   ]
  },
  {
   "cell_type": "code",
   "execution_count": 26,
   "metadata": {},
   "outputs": [
    {
     "name": "stdout",
     "output_type": "stream",
     "text": [
      "[u'Micron', u'Invesco', u'Apple', u'Marvell', u'JD.com,']\n",
      "[45632121, 40453097, 35791794, 35454503, 24782813]\n"
     ]
    }
   ],
   "source": [
    "# split to give a list and then grab first word using list comprehension\n",
    "symbolList = [str.split()[0] for str in symbolList]\n",
    "print (symbolList)\n",
    "\n",
    "# Convert the string to int for our plots using list comprehension\n",
    "volumeList = [ int(i) for i in volumeList]\n",
    "print(volumeList)"
   ]
  },
  {
   "cell_type": "code",
   "execution_count": 27,
   "metadata": {},
   "outputs": [
    {
     "name": "stdout",
     "output_type": "stream",
     "text": [
      "[0, 1, 2, 3, 4]\n"
     ]
    }
   ],
   "source": [
    "#We are good to go to plot land\n",
    "import matplotlib.pyplot as plt\n",
    "#using datetime to print the curent date\n",
    "import datetime\n",
    "import numpy as np\n",
    "%matplotlib inline\n",
    "\n",
    "x = symbolList\n",
    "yval  = volumeList\n",
    "\n",
    "#for pyplot: create a list of integers based on the size of our itemList\n",
    "x_pos = [i for i, _ in enumerate(x)]\n",
    "print (x_pos)"
   ]
  },
  {
   "cell_type": "code",
   "execution_count": 28,
   "metadata": {},
   "outputs": [
    {
     "data": {
      "image/png": "[encoded data removed]",
      "text/plain": [
       "<matplotlib.figure.Figure at 0x3e0ab90>"
      ]
     },
     "metadata": {},
     "output_type": "display_data"
    }
   ],
   "source": [
    "#plot most active stocks for the day\n",
    "plt.bar(x_pos, yval, color='red')\n",
    "plt.xticks(x_pos, x)\n",
    "now = datetime.datetime.now()\n",
    "dateFormat=(\"Most Active {0}{1},{2}\".format(now.strftime(\"%B\"),now.day,now.year))\n",
    "plt.xlabel(\"\\nCompany\")\n",
    "plt.ylabel(\"Volume\")\n",
    "plt.title(dateFormat)\n",
    "plt.show()"
   ]
  },
  {
   "cell_type": "code",
   "execution_count": 29,
   "metadata": {},
   "outputs": [
    {
     "name": "stdout",
     "output_type": "stream",
     "text": [
      "[u'Micron', u'Invesco', u'Apple', u'Marvell', u'JD.com,']\n",
      "[0.47, -0.39, -0.81, -0.05, -1.1]\n"
     ]
    }
   ],
   "source": [
    "#plot for x-axis\n",
    "x = symbolList\n",
    "print(x)\n",
    "\n",
    "#plot for y-axis\n",
    "yval  = changeList\n",
    "print(yval)"
   ]
  },
  {
   "cell_type": "code",
   "execution_count": 30,
   "metadata": {
    "scrolled": true
   },
   "outputs": [
    {
     "data": {
      "image/png": "[encoded data removed]",
      "text/plain": [
       "<matplotlib.figure.Figure at 0x52009d0>"
      ]
     },
     "metadata": {},
     "output_type": "display_data"
    }
   ],
   "source": [
    "dateFormat=(\"Percent Change {0} {1}, {2}\".format(now.strftime(\"%B\"),now.day,now.year))\n",
    "#plot for percent change in value\n",
    "plt.bar(x_pos, yval, color='green')\n",
    "plt.xticks(x_pos, x)\n",
    "plt.xlabel(\"\\nCompany\")\n",
    "plt.ylabel(\"\\nPct Change\")\n",
    "plt.title(dateFormat)\n",
    "plt.show()"
   ]
  }
 ],
 "metadata": {
  "kernelspec": {
   "display_name": "Python 3",
   "language": "python",
   "name": "python3"
  },
  "language_info": {
   "codemirror_mode": {
    "name": "ipython",
    "version": 2
   },
   "file_extension": ".py",
   "mimetype": "text/x-python",
   "name": "python",
   "nbconvert_exporter": "python",
   "pygments_lexer": "ipython2",
   "version": "2.7.5"
  }
 },
 "nbformat": 4,
 "nbformat_minor": 2
}
