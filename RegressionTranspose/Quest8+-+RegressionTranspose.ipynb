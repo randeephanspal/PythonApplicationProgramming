{
 "cells": [
  {
   "cell_type": "markdown",
   "metadata": {},
   "source": [
    "#### CLASS: CSE7345\n",
    "#### SMUID: 47812509\n",
    "#### Quest 8 - Regression Transpose "
   ]
  },
  {
   "cell_type": "markdown",
   "metadata": {},
   "source": [
    "#### A. Simple"
   ]
  },
  {
   "cell_type": "code",
   "execution_count": 25,
   "metadata": {
    "collapsed": true
   },
   "outputs": [],
   "source": [
    "import numpy as np\n",
    "import timeit\n",
    "import random"
   ]
  },
  {
   "cell_type": "code",
   "execution_count": 47,
   "metadata": {},
   "outputs": [],
   "source": [
    "# function to create matrix\n",
    "def create_matrix(a):\n",
    "    return np.random.randint(low=1, high=5, size=(a,a))\n",
    "\n",
    "# function for simple matrix transpose\n",
    "def simple(mat):\n",
    "    return [[mat[j][i] for j in range(len(mat))] for i in range(len(mat[0]))]"
   ]
  },
  {
   "cell_type": "code",
   "execution_count": 48,
   "metadata": {},
   "outputs": [
    {
     "name": "stdout",
     "output_type": "stream",
     "text": [
      "[0.0267331600189209, 1.4580609798431396, 89.75500679016113, 143.99370098114014]\n"
     ]
    }
   ],
   "source": [
    "m=[200,2000,20000,25000]\n",
    "#list to store time\n",
    "simpleList=[]\n",
    "for i in m:\n",
    "    z=create_matrix(i)\n",
    "    simpleMethod = timeit.timeit('simple(z)','from __main__ import simple,z', number=1)\n",
    "    simpleList.append(simpleMethod)\n",
    "print (simpleList)"
   ]
  },
  {
   "cell_type": "markdown",
   "metadata": {},
   "source": [
    "#### B. Zip"
   ]
  },
  {
   "cell_type": "code",
   "execution_count": 51,
   "metadata": {
    "collapsed": true
   },
   "outputs": [],
   "source": [
    "# function using zip matrix transpose\n",
    "def zipp(mat):\n",
    "    t_matrix = zip(*mat)"
   ]
  },
  {
   "cell_type": "code",
   "execution_count": 52,
   "metadata": {},
   "outputs": [
    {
     "name": "stdout",
     "output_type": "stream",
     "text": [
      "[0.004498958587646484, 0.5977120399475098, 23.70847797393799, 36.99335503578186]\n"
     ]
    }
   ],
   "source": [
    "zipList=[]\n",
    "for i in m:\n",
    "    z=create_matrix(i)\n",
    "    zipMethod = timeit.timeit('zipp(z)','from __main__ import zipp,z', number=1)\n",
    "    zipList.append(zipMethod)\n",
    "print (zipList)"
   ]
  },
  {
   "cell_type": "markdown",
   "metadata": {},
   "source": [
    "#### C. Numpy"
   ]
  },
  {
   "cell_type": "code",
   "execution_count": 67,
   "metadata": {},
   "outputs": [],
   "source": [
    "# function using numpy matrix transpose\n",
    "def numpytranspose(mat):\n",
    "    return np.transpose(mat)"
   ]
  },
  {
   "cell_type": "code",
   "execution_count": 68,
   "metadata": {},
   "outputs": [
    {
     "name": "stdout",
     "output_type": "stream",
     "text": [
      "[1.4066696166992188e-05, 1.5974044799804688e-05, 1.0013580322265625e-05, 9.059906005859375e-06]\n"
     ]
    }
   ],
   "source": [
    "numpyList=[]\n",
    "for i in m:\n",
    "    z=create_matrix(i)\n",
    "    NumpyMethod = timeit.timeit('numpytranspose(z)',\n",
    "                                'from __main__ import numpytranspose,z', number=1)\n",
    "    numpyList.append(NumpyMethod)\n",
    "print (numpyList)"
   ]
  },
  {
   "cell_type": "markdown",
   "metadata": {},
   "source": [
    "#### Graph"
   ]
  },
  {
   "cell_type": "code",
   "execution_count": 64,
   "metadata": {
    "collapsed": true
   },
   "outputs": [],
   "source": [
    "import matplotlib.pyplot as plt\n",
    "%matplotlib inline"
   ]
  },
  {
   "cell_type": "code",
   "execution_count": 65,
   "metadata": {},
   "outputs": [
    {
     "data": {
      "image/png": "[encoded data removed]",
      "text/plain": [
       "<matplotlib.figure.Figure at 0x5efc06350>"
      ]
     },
     "metadata": {},
     "output_type": "display_data"
    }
   ],
   "source": [
    "plt.figure(figsize=(8,8))\n",
    "plt.plot(m, simpleList, color='blue', label = \"Simple\")\n",
    "plt.plot(m, zipList, color='red', label = \"Zip\")\n",
    "plt.plot(m, numpyList, color='green', label = \"Numpy\")\n",
    "plt.xlabel('Matrix Size')\n",
    "plt.ylabel('Time in seconds')\n",
    "plt.title('Computing the Matrix transpose')\n",
    "plt.legend(numpoints=2)\n",
    "plt.show()"
   ]
  },
  {
   "cell_type": "markdown",
   "metadata": {},
   "source": [
    "#### Q. What are the implications?\n",
    "#### A. From the graph, we can confirm that using numpy for matrix transpose is much faster."
   ]
  },
  {
   "cell_type": "markdown",
   "metadata": {},
   "source": [
    "#### Q. What is the time complexity of matrix transposition?\n",
    "#### A. Matrix transposition using simple method takes almost double time as compared with zip method, numpy on the other hand takes only few seconds."
   ]
  },
  {
   "cell_type": "markdown",
   "metadata": {},
   "source": [
    "#### Q. Do your results confirm the theory?\n",
    "#### A. Matrix transposition is time consuming function if not used without numpy package."
   ]
  }
 ],
 "metadata": {
  "kernelspec": {
   "display_name": "Python 3",
   "language": "python",
   "name": "python3"
  },
  "language_info": {
   "codemirror_mode": {
    "name": "ipython",
    "version": 2
   },
   "file_extension": ".py",
   "mimetype": "text/x-python",
   "name": "python",
   "nbconvert_exporter": "python",
   "pygments_lexer": "ipython2",
   "version": "2.7.5"
  }
 },
 "nbformat": 4,
 "nbformat_minor": 2
}
