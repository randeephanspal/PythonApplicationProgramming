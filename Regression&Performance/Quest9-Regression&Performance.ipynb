{
 "cells": [
  {
   "cell_type": "markdown",
   "metadata": {},
   "source": [
    "#### CLASS: CSE7345\n",
    "#### SMUID: 47812509\n",
    "#### Quest 9 - Regression and Performace "
   ]
  },
  {
   "cell_type": "code",
   "execution_count": 68,
   "metadata": {},
   "outputs": [],
   "source": [
    "#basic imports\n",
    "import numpy  as np\n",
    "import pandas as pd\n",
    "import matplotlib.pyplot as plt\n",
    "%matplotlib inline"
   ]
  },
  {
   "cell_type": "code",
   "execution_count": 69,
   "metadata": {},
   "outputs": [],
   "source": [
    "# read csv file\n",
    "df = pd.read_csv('q9data.csv',names = ['Yvalue', 'Xvalue'])\n",
    "#values stored in x & y\n",
    "y=df['Yvalue'].tolist()\n",
    "x=df['Xvalue'].tolist()"
   ]
  },
  {
   "cell_type": "markdown",
   "metadata": {},
   "source": [
    "#### Part A"
   ]
  },
  {
   "cell_type": "code",
   "execution_count": 70,
   "metadata": {},
   "outputs": [],
   "source": [
    "# function to calculate variance\n",
    "def variance(a):\n",
    "    total = 0.0\n",
    "    for x in a:\n",
    "        total = total + (x - np.mean(a))**2\n",
    "    return total / len(a)\n",
    "var=variance(x)"
   ]
  },
  {
   "cell_type": "code",
   "execution_count": 71,
   "metadata": {},
   "outputs": [],
   "source": [
    "# function to calculate covariance\n",
    "def covariance(a,b):\n",
    "    total = 0.0\n",
    "    for (x,y) in zip(a,b):\n",
    "        total = total + (x - np.mean(a))*(y - np.mean(b))\n",
    "    return total/ len(a)\n",
    "cov=covariance(x,y)"
   ]
  },
  {
   "cell_type": "code",
   "execution_count": 72,
   "metadata": {},
   "outputs": [],
   "source": [
    "#calculating slope, slope=covariance/variance\n",
    "slopeA=cov/var\n",
    "\n",
    "#calculating yintercept\n",
    "yintercept = np.mean(y) - (slopeA * np.mean(x))"
   ]
  },
  {
   "cell_type": "code",
   "execution_count": 73,
   "metadata": {},
   "outputs": [
    {
     "name": "stdout",
     "output_type": "stream",
     "text": [
      "X population variance: 24.700113196145736\n",
      "Population covariance: 5.896497001952007\n",
      "Slope:  0.23872348094631848\n",
      "Yintercept:  -0.2761803298869643\n"
     ]
    }
   ],
   "source": [
    "#Lets print all the calculated values\n",
    "print (\"X population variance:\",var)\n",
    "print (\"Population covariance:\",cov)\n",
    "print (\"Slope: \",slopeA)\n",
    "print (\"Yintercept: \",yintercept)"
   ]
  },
  {
   "cell_type": "code",
   "execution_count": 74,
   "metadata": {},
   "outputs": [
    {
     "name": "stdout",
     "output_type": "stream",
     "text": [
      "Sum of squares Error equation is:  0.06553910081936437\n"
     ]
    }
   ],
   "source": [
    "# Calculating error for line given points\n",
    "# using Sum of squares Error equation\n",
    "def compute_error_line_given_points(b,m,var1,var2):\n",
    "    length= (len(var1))\n",
    "    total=0.0\n",
    "    for x,y in zip(var1,var2):\n",
    "        total+=(y-(m*x+b))**2\n",
    "    return total/length\n",
    "equation=compute_error_line_given_points(yintercept,slopeA,x,y)\n",
    "print (\"Sum of squares Error equation is: \",equation)"
   ]
  },
  {
   "cell_type": "markdown",
   "metadata": {},
   "source": [
    "#### Part B"
   ]
  },
  {
   "cell_type": "code",
   "execution_count": 75,
   "metadata": {},
   "outputs": [],
   "source": [
    "# Step gradient is used to calculate the steep slope in descend from the current position\n",
    "# Using Partial derivative w.r.t m and b\n",
    "def step_gradient(b_current,m_current,x_array,y_array,learning_rate):\n",
    "    b_gradient=0\n",
    "    m_gradient=0\n",
    "    N=float(len(x_array))\n",
    "    for x,y in zip(x_array,y_array):\n",
    "        b_gradient += -(2/N)*((y-(m_current*x+b_current)))\n",
    "        m_gradient += -(2/N)*x*(y-(m_current*x+b_current))\n",
    "        new_b = b_current - (learning_rate*b_gradient)\n",
    "        new_m = m_current - (learning_rate*m_gradient)\n",
    "    return [new_b,new_m]"
   ]
  },
  {
   "cell_type": "code",
   "execution_count": 76,
   "metadata": {},
   "outputs": [],
   "source": [
    "# This function uses step gradient function to run the iterations\n",
    "# The iteration amount is given to this function as parameter\n",
    "def gradient_descent_runner(x,y,starting_b,starting_m,learning_rate,num_iterations):\n",
    "    b=starting_b\n",
    "    m=starting_m\n",
    "    for i in range(num_iterations):    \n",
    "        b,m=step_gradient(b,m,x,y,learning_rate)\n",
    "    return [b,m]"
   ]
  },
  {
   "cell_type": "code",
   "execution_count": 77,
   "metadata": {},
   "outputs": [],
   "source": [
    "# Calculating error for line given points\n",
    "def compute_error_line_given_points(b,m,var1,var2):\n",
    "    length= (len(var1))\n",
    "    total=0.0\n",
    "    for x,y in zip(var1,var2):\n",
    "        total+=(y-(m*x+b))**2\n",
    "    return total/length"
   ]
  },
  {
   "cell_type": "code",
   "execution_count": 78,
   "metadata": {},
   "outputs": [
    {
     "name": "stdout",
     "output_type": "stream",
     "text": [
      "Y-intercept for 0.001: -0.26154480223134613\n",
      "Slope for 0.001: 0.23750443519276404 \n",
      "Sum of squares Error equation is:  0.0655858850302454\n",
      "\n",
      "\n",
      "Y-intercept for 0.0001: 0.45070346718340293\n",
      "Slope for 0.0001: 0.1781787143347787 \n",
      "Sum of squares Error equation is:  0.0655858850302454\n",
      "\n",
      "\n",
      "Y-intercept for 0.0003: 0.02904513076172635\n",
      "Slope for 0.0003: 0.21330015420089407 \n",
      "Sum of squares Error equation is:  0.0655858850302454\n",
      "\n",
      "\n",
      "Y-intercept for 0.0005: -0.14802288937110672\n",
      "Slope for 0.0005: 0.228048786646022 \n",
      "Sum of squares Error equation is:  0.0655858850302454\n",
      "\n",
      "\n"
     ]
    }
   ],
   "source": [
    "# Different values for learning rate\n",
    "learningrate=[0.001,0.0001,0.0003,0.0005]\n",
    "slopelist=[]\n",
    "yinterceptlist=[]\n",
    "\n",
    "#calculate and print all the values using different learning rates \n",
    "for lr in learningrate:\n",
    "    finalvals=gradient_descent_runner(x,y,1,2,lr,10000)\n",
    "    equationB=compute_error_line_given_points(yinterceptB,slopeB,x,y)\n",
    "    slopelist.append(finalvals[1])\n",
    "    yinterceptlist.append(finalvals[0])\n",
    "    \n",
    "    print (\"Y-intercept for {0}: {1}\".format(lr,finalvals[0]))\n",
    "    print (\"Slope for {0}: {1} \".format(lr,finalvals[1]))\n",
    "    print (\"Sum of squares Error equation is: \",equationB)\n",
    "    print (\"\\n\")"
   ]
  },
  {
   "cell_type": "markdown",
   "metadata": {},
   "source": [
    "#### Comparing PartA and PartB using Scatter plot"
   ]
  },
  {
   "cell_type": "code",
   "execution_count": 79,
   "metadata": {},
   "outputs": [
    {
     "data": {
      "image/png": "[encoded data removed]",
      "text/plain": [
       "<Figure size 720x720 with 1 Axes>"
      ]
     },
     "metadata": {},
     "output_type": "display_data"
    }
   ],
   "source": [
    "#Comparing values form Part A and Part B\n",
    "#The formula for computing linear regression:\n",
    "#y = mx + b where m is slope & b is Yintercept\n",
    "plt.figure(figsize=(10,10))\n",
    "color=['red','yellow','blue','black']\n",
    "for j in range(len(learningrate)):\n",
    "    for i in x:\n",
    "        if j==0:\n",
    "            #computing linear regression for PartA values\n",
    "            ya=(slopeA*i)+yintercept\n",
    "            if i == x[0]:\n",
    "                plt.scatter(i,ya,c='green',label='PartA')\n",
    "            else:\n",
    "                plt.scatter(i,ya,c='green')\n",
    "                \n",
    "        #computing linear regression for PartB values   \n",
    "        yb=(slopelist[j]*i)+yinterceptlist[j]\n",
    "        if i == x[0]:\n",
    "            plt.scatter(i,yb,c=color[j],s=9,label='PartB - learning rate = {}'.\n",
    "                        format(learningrate[j]))\n",
    "        else:\n",
    "            plt.scatter(i,yb,c=color[j],s=9)\n",
    "        plt.xlabel(\"X-axis\")\n",
    "        plt.ylabel(\"Yaxis (slope*x + y-intercept)\\n\")\n",
    "    plt.plot(label=\"PartB\")\n",
    "    plt.legend(prop={'size':12})\n",
    "    plt.plot()"
   ]
  },
  {
   "cell_type": "markdown",
   "metadata": {},
   "source": [
    "#### How close can you get to your results from part A?\n",
    "The above scatter plot compares the PartA result with PartB. Using different learning curves to compare with the value of PartA, it was noticed that using learning curve values from 0.001 to 0.005, the results are close and overlap with the PartA. This is specially when iterations is given as 10,000. If the learning rate is reduced then we need to increase the iteratations to get the values closed to the correct value."
   ]
  },
  {
   "cell_type": "markdown",
   "metadata": {},
   "source": [
    "#### Explain the effect of different learning rates on obtaining values that are closest to the values obtained from partA."
   ]
  },
  {
   "cell_type": "markdown",
   "metadata": {},
   "source": [
    "It is observed that the values are almost same as the correct value when the learning curve is 0.001 Also, i tested with learning curve as 0.005 in which the values were also very close. However the learning curve with less value i.e. 0.0001, in this case the values are far away from the correct values. But if the the iterations are increased then the value will get close."
   ]
  }
 ],
 "metadata": {
  "kernelspec": {
   "display_name": "Python 3",
   "language": "python",
   "name": "python3"
  },
  "language_info": {
   "codemirror_mode": {
    "name": "ipython",
    "version": 3
   },
   "file_extension": ".py",
   "mimetype": "text/x-python",
   "name": "python",
   "nbconvert_exporter": "python",
   "pygments_lexer": "ipython3",
   "version": "3.6.5"
  }
 },
 "nbformat": 4,
 "nbformat_minor": 2
}
